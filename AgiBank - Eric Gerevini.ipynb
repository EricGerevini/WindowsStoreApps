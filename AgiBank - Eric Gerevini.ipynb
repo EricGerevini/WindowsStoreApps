{
 "cells": [
  {
   "cell_type": "code",
   "execution_count": 1,
   "id": "845ac253",
   "metadata": {},
   "outputs": [],
   "source": [
    "#Importar as bibliotecas\n",
    "\n",
    "import pandas as pd\n",
    "import numpy as np\n",
    "import matplotlib.pyplot as plt"
   ]
  },
  {
   "cell_type": "code",
   "execution_count": 2,
   "id": "26e33dc5",
   "metadata": {},
   "outputs": [],
   "source": [
    "#1. Escreva um código em VBA, R ou Python que reúna os três arquivos em um único banco de dados\n",
    "\n",
    "#importar as tabelas\n",
    "ava = pd.read_excel('Avaliaes.xlsx')\n",
    "cat = pd.read_excel('CategoriaePreo.xlsx')\n",
    "nome = pd.read_excel('NomesePublicaes.xlsx')\n",
    "\n",
    "#reuno as tabales em um mesmo data frame\n",
    "m = pd.merge(ava, nome, how = 'left')\n",
    "m2 = pd.merge(m, cat, how = 'left')\n",
    "\n",
    "#organizo as colunas do dataframe anterior m2 e aloco em banco_de_dados\n",
    "banco_de_dados = m2[['ID', 'Name', 'Price', 'Category', 'Rating', 'No of people Rated', 'Date']]\n",
    "\n",
    "#banco_de_dados #para visualizar o Dataframe"
   ]
  },
  {
   "cell_type": "code",
   "execution_count": 3,
   "id": "d9774368",
   "metadata": {
    "scrolled": false
   },
   "outputs": [
    {
     "data": {
      "image/png": "[encoded data removed]",
      "text/plain": [
       "<Figure size 432x288 with 1 Axes>"
      ]
     },
     "metadata": {
      "needs_background": "light"
     },
     "output_type": "display_data"
    }
   ],
   "source": [
    "#2. Existe relação entre a avaliação dos aplicativos e a quantidade de avaliações? E entre a data\n",
    "#de publicação e as avaliações? Os aplicativos pagos são melhor avaliados?\n",
    "\n",
    "#2.1 Entre avaliação dos aplicativos e a quantidade de avaliações?\n",
    "\n",
    "#Aloco em ex21 o dataframe com as colunas No of people Rated e Rating, agrupo com groupby os ratings iguais,\n",
    "#somo para saber quantos votos tem por rating e por fim utilizo o comando reset_index para\n",
    "#criar indíces em ex21 que foram ''perdidos'' no groupby\n",
    "ex21 = banco_de_dados[['No of people Rated','Rating',]].groupby(['Rating']).sum().reset_index()\n",
    "#um gráfico para visualização\n",
    "plt.scatter(ex21[['No of people Rated']],ex21[['Rating']])\n",
    "plt.title(\"Rating x No of People Rated\")\n",
    "plt.xlabel(\"No of People Rated\")\n",
    "plt.ylabel(\"Rating\")\n",
    "plt.grid(True)\n",
    "plt.savefig('Gráfico_ex21.png')\n",
    "plt.show()"
   ]
  },
  {
   "cell_type": "code",
   "execution_count": 4,
   "id": "12bfbc0f",
   "metadata": {},
   "outputs": [
    {
     "data": {
      "text/html": [
       "<div>\n",
       "<style scoped>\n",
       "    .dataframe tbody tr th:only-of-type {\n",
       "        vertical-align: middle;\n",
       "    }\n",
       "\n",
       "    .dataframe tbody tr th {\n",
       "        vertical-align: top;\n",
       "    }\n",
       "\n",
       "    .dataframe thead th {\n",
       "        text-align: right;\n",
       "    }\n",
       "</style>\n",
       "<table border=\"1\" class=\"dataframe\">\n",
       "  <thead>\n",
       "    <tr style=\"text-align: right;\">\n",
       "      <th></th>\n",
       "      <th>Rating</th>\n",
       "      <th>No of people Rated</th>\n",
       "    </tr>\n",
       "  </thead>\n",
       "  <tbody>\n",
       "    <tr>\n",
       "      <th>Rating</th>\n",
       "      <td>1.000000</td>\n",
       "      <td>0.879948</td>\n",
       "    </tr>\n",
       "    <tr>\n",
       "      <th>No of people Rated</th>\n",
       "      <td>0.879948</td>\n",
       "      <td>1.000000</td>\n",
       "    </tr>\n",
       "  </tbody>\n",
       "</table>\n",
       "</div>"
      ],
      "text/plain": [
       "                      Rating  No of people Rated\n",
       "Rating              1.000000            0.879948\n",
       "No of people Rated  0.879948            1.000000"
      ]
     },
     "execution_count": 4,
     "metadata": {},
     "output_type": "execute_result"
    }
   ],
   "source": [
    "#função que calcula corelação (padrão é o método de Pearson)\n",
    "ex21.corr()"
   ]
  },
  {
   "cell_type": "code",
   "execution_count": 5,
   "id": "8fad1a40",
   "metadata": {},
   "outputs": [
    {
     "name": "stderr",
     "output_type": "stream",
     "text": [
      "<ipython-input-5-e45f50426ea2>:15: FutureWarning: DataFrame.mean and DataFrame.median with numeric_only=None will include datetime64 and datetime64tz columns in a future version.\n",
      "  media1.append(ex22[ex22['Date'].dt.year==(2010+j)].mean()[0])\n",
      "<ipython-input-5-e45f50426ea2>:15: FutureWarning: DataFrame.mean and DataFrame.median with numeric_only=None will include datetime64 and datetime64tz columns in a future version.\n",
      "  media1.append(ex22[ex22['Date'].dt.year==(2010+j)].mean()[0])\n",
      "<ipython-input-5-e45f50426ea2>:15: FutureWarning: DataFrame.mean and DataFrame.median with numeric_only=None will include datetime64 and datetime64tz columns in a future version.\n",
      "  media1.append(ex22[ex22['Date'].dt.year==(2010+j)].mean()[0])\n",
      "<ipython-input-5-e45f50426ea2>:15: FutureWarning: DataFrame.mean and DataFrame.median with numeric_only=None will include datetime64 and datetime64tz columns in a future version.\n",
      "  media1.append(ex22[ex22['Date'].dt.year==(2010+j)].mean()[0])\n",
      "<ipython-input-5-e45f50426ea2>:15: FutureWarning: DataFrame.mean and DataFrame.median with numeric_only=None will include datetime64 and datetime64tz columns in a future version.\n",
      "  media1.append(ex22[ex22['Date'].dt.year==(2010+j)].mean()[0])\n",
      "<ipython-input-5-e45f50426ea2>:15: FutureWarning: DataFrame.mean and DataFrame.median with numeric_only=None will include datetime64 and datetime64tz columns in a future version.\n",
      "  media1.append(ex22[ex22['Date'].dt.year==(2010+j)].mean()[0])\n",
      "<ipython-input-5-e45f50426ea2>:15: FutureWarning: DataFrame.mean and DataFrame.median with numeric_only=None will include datetime64 and datetime64tz columns in a future version.\n",
      "  media1.append(ex22[ex22['Date'].dt.year==(2010+j)].mean()[0])\n",
      "<ipython-input-5-e45f50426ea2>:15: FutureWarning: DataFrame.mean and DataFrame.median with numeric_only=None will include datetime64 and datetime64tz columns in a future version.\n",
      "  media1.append(ex22[ex22['Date'].dt.year==(2010+j)].mean()[0])\n",
      "<ipython-input-5-e45f50426ea2>:15: FutureWarning: DataFrame.mean and DataFrame.median with numeric_only=None will include datetime64 and datetime64tz columns in a future version.\n",
      "  media1.append(ex22[ex22['Date'].dt.year==(2010+j)].mean()[0])\n",
      "<ipython-input-5-e45f50426ea2>:15: FutureWarning: DataFrame.mean and DataFrame.median with numeric_only=None will include datetime64 and datetime64tz columns in a future version.\n",
      "  media1.append(ex22[ex22['Date'].dt.year==(2010+j)].mean()[0])\n",
      "<ipython-input-5-e45f50426ea2>:15: FutureWarning: DataFrame.mean and DataFrame.median with numeric_only=None will include datetime64 and datetime64tz columns in a future version.\n",
      "  media1.append(ex22[ex22['Date'].dt.year==(2010+j)].mean()[0])\n"
     ]
    },
    {
     "data": {
      "image/png": "[encoded data removed]",
      "text/plain": [
       "<Figure size 432x288 with 1 Axes>"
      ]
     },
     "metadata": {
      "needs_background": "light"
     },
     "output_type": "display_data"
    }
   ],
   "source": [
    "#2.2 Entre a data de publicação e as avaliações?\n",
    "\n",
    "#Crio um novo dataframe no qual eu separei em uma coluna os anos (2010 até 2020) e\n",
    "#em outra coluna eu organizo as médias de rating relacionada em cada ano.\n",
    "#primeiro aloco em ex22 as colunas que iremos utilizar\n",
    "ex22 = banco_de_dados[['Date','Rating']] \n",
    "#Crio a lista dos anos\n",
    "data1=[]\n",
    "for k in range(0,11,1):\n",
    "    data1.append(2010+k)\n",
    "\n",
    "#Crio a lista das médias    \n",
    "media1=[]\n",
    "for j in range(0,11,1):\n",
    "    media1.append(ex22[ex22['Date'].dt.year==(2010+j)].mean()[0])\n",
    "\n",
    "#Aloco o dataframe\n",
    "df22=pd.DataFrame({'Date':data1,'Mean':media1})\n",
    "\n",
    "#df22 #comando para checar o dataframe\n",
    "\n",
    "#um gráfico para visualização\n",
    "plt.scatter(df22[['Date']],df22[['Mean']])\n",
    "plt.title(\"Rating x Date\")\n",
    "plt.xlabel(\"Date\")\n",
    "plt.ylabel(\"Rating\")\n",
    "plt.grid(True)\n",
    "plt.savefig('Gráfico_ex22.png')\n",
    "plt.show()\n"
   ]
  },
  {
   "cell_type": "code",
   "execution_count": 6,
   "id": "5541c044",
   "metadata": {},
   "outputs": [
    {
     "data": {
      "text/html": [
       "<div>\n",
       "<style scoped>\n",
       "    .dataframe tbody tr th:only-of-type {\n",
       "        vertical-align: middle;\n",
       "    }\n",
       "\n",
       "    .dataframe tbody tr th {\n",
       "        vertical-align: top;\n",
       "    }\n",
       "\n",
       "    .dataframe thead th {\n",
       "        text-align: right;\n",
       "    }\n",
       "</style>\n",
       "<table border=\"1\" class=\"dataframe\">\n",
       "  <thead>\n",
       "    <tr style=\"text-align: right;\">\n",
       "      <th></th>\n",
       "      <th>Date</th>\n",
       "      <th>Mean</th>\n",
       "    </tr>\n",
       "  </thead>\n",
       "  <tbody>\n",
       "    <tr>\n",
       "      <th>Date</th>\n",
       "      <td>1.000000</td>\n",
       "      <td>-0.279488</td>\n",
       "    </tr>\n",
       "    <tr>\n",
       "      <th>Mean</th>\n",
       "      <td>-0.279488</td>\n",
       "      <td>1.000000</td>\n",
       "    </tr>\n",
       "  </tbody>\n",
       "</table>\n",
       "</div>"
      ],
      "text/plain": [
       "          Date      Mean\n",
       "Date  1.000000 -0.279488\n",
       "Mean -0.279488  1.000000"
      ]
     },
     "execution_count": 6,
     "metadata": {},
     "output_type": "execute_result"
    }
   ],
   "source": [
    "#função corr() para calcular a correlação (padrão é o método de Pearson)\n",
    "df22.corr()"
   ]
  },
  {
   "cell_type": "code",
   "execution_count": 7,
   "id": "1dded140",
   "metadata": {
    "scrolled": false
   },
   "outputs": [
    {
     "name": "stdout",
     "output_type": "stream",
     "text": [
      "A média do Rating dos aplicativos Free é de 3.83 e a média do Rating dos aplicativos pagos é de 2.43, portanto os aplicativos  Free são mais bem avaliados\n"
     ]
    }
   ],
   "source": [
    "#2.3 Os aplicativos pagos são melhor avaliados? \n",
    "\n",
    "#Separo as colunas de interesse e aloco em ex23\n",
    "ex23 = banco_de_dados[['Price','Rating']]\n",
    "\n",
    "#Utilizo o comando .str.contains para filtrar os preços\n",
    "#na primeira linha são selecionados todas as linhas na coluna Price que tenha o valor Free e aloco em ex23_free\n",
    "#na segunda linha são selecionados todas as linhas na coluna Price que não tenha o valor Free (tenha algum preço)\n",
    "#e aloc oem ex23_nofree\n",
    "ex23_free = ex23[ex23[\"Price\"].str.contains(\"Free\")==True]\n",
    "ex23_nofree = ex23[ex23[\"Price\"].str.contains(\"Free\")==False]\n",
    "\n",
    "#Para saber qual dos dois grupos são melhores avaliados eu calculei a média dos ratings e faço um comparativo entre elas\n",
    "#quando a média de rating de ex23_free for maior que a média de rating do ex23_nofree, os aplicativos de graça são melhores \n",
    "#avaliados ou quando a média de ex23_nofree for maior que a média de ex23_free, os aplicativos pagos são melhores avaliados\n",
    "if ex23_free.mean()[0] > ex23_nofree.mean()[0]:\n",
    "    print(\"A média do Rating dos aplicativos Free é de {} e a média do Rating dos aplicativos pagos é de {}, portanto os \\\n",
    "aplicativos  Free são mais bem avaliados\".format(np.round(ex23_free.mean(), 2)[0],np.round(ex23_nofree.mean(),2)[0]))\n",
    "if ex23_nofree.mean()[0] > ex23_free.mean()[0]:\n",
    "    print(\"A média do Rating dos aplicativos Free é de {} e a média do Rating dos aplicativos pagos é de {}, portanto os \\\n",
    "aplicativos  pagos são mais bem avaliados\".format(np.round(ex23_free.mean(), 2)[0],np.round(ex23_nofree.mean(),2)[0]))"
   ]
  },
  {
   "cell_type": "code",
   "execution_count": null,
   "id": "33d8f91e",
   "metadata": {},
   "outputs": [],
   "source": []
  }
 ],
 "metadata": {
  "kernelspec": {
   "display_name": "Python 3",
   "language": "python",
   "name": "python3"
  },
  "language_info": {
   "codemirror_mode": {
    "name": "ipython",
    "version": 3
   },
   "file_extension": ".py",
   "mimetype": "text/x-python",
   "name": "python",
   "nbconvert_exporter": "python",
   "pygments_lexer": "ipython3",
   "version": "3.8.8"
  }
 },
 "nbformat": 4,
 "nbformat_minor": 5
}
